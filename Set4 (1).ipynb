{
 "cells": [
  {
   "cell_type": "code",
   "execution_count": 10,
   "id": "2e893773",
   "metadata": {},
   "outputs": [],
   "source": [
    "from scipy import stats\n",
    "import numpy as np\n",
    "import pandas as pd\n",
    "import scipy.stats as st\n",
    "from scipy.stats import norm"
   ]
  },
  {
   "cell_type": "markdown",
   "id": "b90d264d",
   "metadata": {},
   "source": [
    "# Q1"
   ]
  },
  {
   "cell_type": "markdown",
   "id": "142da2c1",
   "metadata": {},
   "source": [
    "1.\tExamine the following normal Quantile plots carefully. Which of these plots indicates that the data …\n",
    "I.\tAre nearly normal?\n",
    "\n",
    "II.\tHave a bimodal distribution? (One way to recognize a bimodal shape is a “gap” in the spacing of adjacent data values.)\n",
    "\n",
    "III.\tAre skewed (i.e. not symmetric) ?\n",
    "\n",
    "IV.\tHave outliers on both sides of the center?\n",
    "\n"
   ]
  },
  {
   "cell_type": "markdown",
   "id": "895e291a",
   "metadata": {},
   "source": [
    "# ANS"
   ]
  },
  {
   "cell_type": "markdown",
   "id": "9f0d2ee8",
   "metadata": {},
   "source": [
    "I. Are nearly normal?\n",
    "\n",
    "ANS : C\n",
    "\n",
    "    \n",
    "II. Have a bimodal distribution? (One way to recognize a bimodal shape is a “gap” in the spacing of adjacent data values.)\n",
    "\n",
    "ANS :  B & D\n",
    "    \n",
    "\n",
    "III. Are skewed (i.e. not symmetric) ?\n",
    "\n",
    "\n",
    "ANS : A,B and D\n",
    "\n",
    "\n",
    "III. Are skewed (i.e. not symmetric) ?\n",
    "\n",
    "ANS : A and B"
   ]
  },
  {
   "cell_type": "markdown",
   "id": "39b60556",
   "metadata": {},
   "source": [
    "# Q2"
   ]
  },
  {
   "cell_type": "markdown",
   "id": "3c9afdb3",
   "metadata": {},
   "source": [
    "\tFor each of the following statements, indicate whether it is True/False. If false, explain why.\n",
    "\n",
    "The manager of a warehouse monitors the volume of shipments made by the delivery team. The automated tracking system tracks every package as it moves through the facility. A sample of 25 packages is selected and weighed every day. Based on current contracts with customers, the weights should have μ = 22 lbs. and σ = 5 lbs.\n",
    "\n",
    "(i) Before using a normal model for the sampling distribution of the average package weights, the manager must confirm that     weights of individual packages are normally distributed.\n",
    "\n",
    "(ii) The standard error of the daily average SE(x ̅) = 1.\n"
   ]
  },
  {
   "cell_type": "markdown",
   "id": "31491f27",
   "metadata": {},
   "source": [
    "(i) False :  Here the sample size is 25, to get normal distribution for N number of samples \n",
    "\n",
    "           the samplesize should at least have 30 sample as per centarl limit theorem"
   ]
  },
  {
   "cell_type": "markdown",
   "id": "e8e6ecaf",
   "metadata": {},
   "source": [
    "(ii)  True :As SE(Standard Error) = sample standard deviation / Square root of (number of sample) SE = 5 / (25)^1/2 SE = 1"
   ]
  },
  {
   "cell_type": "markdown",
   "id": "cbdc0b13",
   "metadata": {},
   "source": [
    "# Q3"
   ]
  },
  {
   "cell_type": "markdown",
   "id": "e6aec3ff",
   "metadata": {},
   "source": [
    "3.\tAuditors at a small community bank randomly sample 100 withdrawal transactions made during the week at an ATM machine located near the bank’s main branch. Over the past 2 years, the average withdrawal amount has been $50 with a standard deviation of $40. Since audit investigations are typically expensive, the auditors decide to not initiate further investigations if the mean transaction amount of the sample is between $45 and $55. What is the probability that in any given week, there will be an investigation?\n",
    "\n",
    "A.\t1.25%\n",
    "\n",
    "B.\t2.5%\n",
    "\n",
    "C.\t10.55%\n",
    "\n",
    "D.\t21.1%\n",
    "\n",
    "E.\t50%\n"
   ]
  },
  {
   "cell_type": "code",
   "execution_count": null,
   "id": "0c1821e3",
   "metadata": {},
   "outputs": [],
   "source": [
    "ANS  :  D  21.1%"
   ]
  },
  {
   "cell_type": "markdown",
   "id": "b03643dd",
   "metadata": {},
   "source": [
    "\n",
    "n=100, Pop Mean=50, Pop SD=40 As no. of samples is more than 30, we can consider it normal distribution"
   ]
  },
  {
   "cell_type": "code",
   "execution_count": null,
   "id": "254bfe24",
   "metadata": {},
   "outputs": [],
   "source": [
    "#For No investigation P(45<X<55)\n",
    "# For Investigation 1-P(45<X<55)"
   ]
  },
  {
   "cell_type": "code",
   "execution_count": 12,
   "id": "f24a3ef6",
   "metadata": {},
   "outputs": [
    {
     "data": {
      "text/plain": [
       "0.9005235503397742"
      ]
     },
     "execution_count": 12,
     "metadata": {},
     "output_type": "execute_result"
    }
   ],
   "source": [
    "p1=1-p\n",
    "p1"
   ]
  },
  {
   "cell_type": "code",
   "execution_count": 13,
   "id": "b5026dff",
   "metadata": {},
   "outputs": [
    {
     "data": {
      "text/plain": [
       "-1.25"
      ]
     },
     "execution_count": 13,
     "metadata": {},
     "output_type": "execute_result"
    }
   ],
   "source": [
    "# find z-scores at x=45\n",
    "z=(45-50)/(40/100**0.5)\n",
    "z"
   ]
  },
  {
   "cell_type": "code",
   "execution_count": 14,
   "id": "50897bf0",
   "metadata": {},
   "outputs": [
    {
     "data": {
      "text/plain": [
       "1.25"
      ]
     },
     "execution_count": 14,
     "metadata": {},
     "output_type": "execute_result"
    }
   ],
   "source": [
    "# find z-scores at x=55; \n",
    "z=(55-50)/(40/100**0.5)\n",
    "z"
   ]
  },
  {
   "cell_type": "code",
   "execution_count": 15,
   "id": "de763dec",
   "metadata": {},
   "outputs": [
    {
     "data": {
      "text/plain": [
       "0.7887004526662893"
      ]
     },
     "execution_count": 15,
     "metadata": {},
     "output_type": "execute_result"
    }
   ],
   "source": [
    "# For No investigation P(45<X<55) using z_scores = P(X<50)-P(X<45)\n",
    "stats.norm.cdf(1.25)-stats.norm.cdf(-1.25)"
   ]
  },
  {
   "cell_type": "code",
   "execution_count": 16,
   "id": "80414f34",
   "metadata": {},
   "outputs": [
    {
     "data": {
      "text/plain": [
       "0.21130000000000004"
      ]
     },
     "execution_count": 16,
     "metadata": {},
     "output_type": "execute_result"
    }
   ],
   "source": [
    "# For Investigation 1-P(45<X<55)\n",
    "1-0.7887"
   ]
  },
  {
   "cell_type": "markdown",
   "id": "91c0fd37",
   "metadata": {},
   "source": [
    "# Q4"
   ]
  },
  {
   "cell_type": "markdown",
   "id": "9147facb",
   "metadata": {},
   "source": [
    "4.\tThe auditors from the above example would like to maintain the probability of investigation to 5%. Which of the following represents the minimum number transactions that they should sample if they do not want to change the thresholds of 45 and 55? Assume that the sample statistics remain unchanged.\n",
    "\n",
    "A.\t144\n",
    "\n",
    "B.\t150\n",
    "\n",
    "C.\t196\n",
    "\n",
    "D.\t250\n",
    "\n",
    "E.\tNot enough information\n"
   ]
  },
  {
   "cell_type": "markdown",
   "id": "0337f879",
   "metadata": {},
   "source": [
    "ANS :D  250"
   ]
  },
  {
   "cell_type": "markdown",
   "id": "8c3c0403",
   "metadata": {},
   "source": [
    "# Q5"
   ]
  },
  {
   "cell_type": "markdown",
   "id": "41705193",
   "metadata": {},
   "source": [
    "5.\tAn educational startup that helps MBA aspirants write their essays is targeting individuals who have taken GMAT in 2012 and have expressed interest in applying to FT top 20 b-schools. There are 40000 such individuals with an average GMAT score of 720 and a standard deviation of 120. The scores are distributed between 650 and 790 with a very long and thin tail towards the higher end resulting in substantial skewness. Which of the following is likely to be true for randomly chosen samples of aspirants?\n",
    "\n",
    "A.\tThe standard deviation of the scores within any sample will be 120.\n",
    "\n",
    "B.\tThe standard deviation of the mean of across several samples will be 120.\n",
    "\n",
    "C.\tThe mean score in any sample will be 720.\n",
    "\n",
    "D.\tThe average of the mean across several samples will be 720.\n",
    "\n",
    "E.\tThe standard deviation of the mean across several samples will be 0.60\n"
   ]
  },
  {
   "cell_type": "markdown",
   "id": "9a5d2e6e",
   "metadata": {},
   "source": [
    "ANS :E Standard error = sigma / (n)^0.5 = standard deviation / (sample size)^0.5 = 120 / (40000)^0.5 = 0.6"
   ]
  },
  {
   "cell_type": "code",
   "execution_count": null,
   "id": "c2b71ee3",
   "metadata": {},
   "outputs": [],
   "source": []
  },
  {
   "cell_type": "code",
   "execution_count": null,
   "id": "c0ed6dd4",
   "metadata": {},
   "outputs": [],
   "source": []
  },
  {
   "cell_type": "code",
   "execution_count": null,
   "id": "b036ea68",
   "metadata": {},
   "outputs": [],
   "source": []
  },
  {
   "cell_type": "code",
   "execution_count": null,
   "id": "11fea55a",
   "metadata": {},
   "outputs": [],
   "source": []
  },
  {
   "cell_type": "code",
   "execution_count": null,
   "id": "86269752",
   "metadata": {},
   "outputs": [],
   "source": []
  },
  {
   "cell_type": "code",
   "execution_count": null,
   "id": "5d740fcd",
   "metadata": {},
   "outputs": [],
   "source": []
  },
  {
   "cell_type": "code",
   "execution_count": null,
   "id": "0f08a3c0",
   "metadata": {},
   "outputs": [],
   "source": []
  }
 ],
 "metadata": {
  "kernelspec": {
   "display_name": "Python 3 (ipykernel)",
   "language": "python",
   "name": "python3"
  },
  "language_info": {
   "codemirror_mode": {
    "name": "ipython",
    "version": 3
   },
   "file_extension": ".py",
   "mimetype": "text/x-python",
   "name": "python",
   "nbconvert_exporter": "python",
   "pygments_lexer": "ipython3",
   "version": "3.11.5"
  }
 },
 "nbformat": 4,
 "nbformat_minor": 5
}
