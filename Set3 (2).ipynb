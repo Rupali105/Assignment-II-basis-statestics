{
 "cells": [
  {
   "cell_type": "code",
   "execution_count": 10,
   "id": "ea5dcadb",
   "metadata": {},
   "outputs": [],
   "source": [
    "import numpy as np\n",
    "from scipy import stats\n",
    "from scipy.stats import norm"
   ]
  },
  {
   "cell_type": "markdown",
   "id": "82234c84",
   "metadata": {},
   "source": [
    "# Q1"
   ]
  },
  {
   "cell_type": "markdown",
   "id": "e10f8e62",
   "metadata": {},
   "source": [
    "1.\tFor each of the following statements, indicate whether it is True/False. If false, explain why.\n",
    "\n",
    "I.\tThe sample size of the survey should at least be a fixed percentage of the population size in order to produce representative results.\n",
    "\n",
    "II.\tThe sampling frame is a list of every item that appears in a survey sample, including those that did not respond to questions.\n",
    "\n",
    "III.\tLarger surveys convey a more accurate impression of the population than smaller surveys.\n"
   ]
  },
  {
   "cell_type": "markdown",
   "id": "3fefd172",
   "metadata": {},
   "source": [
    "# ANS"
   ]
  },
  {
   "cell_type": "markdown",
   "id": "bb0bf8f7",
   "metadata": {},
   "source": [
    "I. The sample size of the survey should at least be a fixed percentage of the population size in order to produce\n",
    "\n",
    "representative results"
   ]
  },
  {
   "cell_type": "markdown",
   "id": "0a22a7eb",
   "metadata": {},
   "source": [
    "ANS :   FALSE The result depends upon the sample size(n) and it should have atleast 30 observations"
   ]
  },
  {
   "cell_type": "markdown",
   "id": "2c69c98d",
   "metadata": {},
   "source": [
    "II. The sampling frame is a list of every item that appears in a survey sample, including those that did not respond to questions."
   ]
  },
  {
   "cell_type": "markdown",
   "id": "cca20a19",
   "metadata": {},
   "source": [
    "\n",
    "ANS : FALSE\n",
    "    If we include not responds then the results we get from sample may not be accurate. as we may cosider them as NULL"
   ]
  },
  {
   "cell_type": "markdown",
   "id": "68b1ecc2",
   "metadata": {},
   "source": [
    "III. Larger surveys convey a more accurate impression of the population than smaller surveys."
   ]
  },
  {
   "cell_type": "markdown",
   "id": "c52a0c2b",
   "metadata": {},
   "source": [
    "ANS : TRUE"
   ]
  },
  {
   "cell_type": "markdown",
   "id": "3788ff42",
   "metadata": {},
   "source": [
    "# Q2"
   ]
  },
  {
   "cell_type": "markdown",
   "id": "3112eac3",
   "metadata": {},
   "source": [
    "2.PC Magazine asked all of its readers to participate in a survey of their satisfaction with different brands of electronics. In the 2004 survey, which was included in an issue of the magazine that year, more than 9000 readers rated the products on a scale from 1 to 10. The magazine reported that the average rating assigned by 225 readers to a Kodak compact digital camera was 7.5. For this product, identify the following:\n",
    "\n",
    "A.The population\n",
    "\n",
    "B.The parameter of interest\n",
    "\n",
    "C.The sampling frame\n",
    "\n",
    "D.The sample size\n",
    "\n",
    "E.The sampling design\n",
    "\n",
    "F.Any potential sources of bias or other problems with the survey or sample\n"
   ]
  },
  {
   "cell_type": "markdown",
   "id": "89934b7d",
   "metadata": {},
   "source": [
    "# ANS"
   ]
  },
  {
   "cell_type": "markdown",
   "id": "e0258d52",
   "metadata": {},
   "source": [
    "A.The population  :  9000"
   ]
  },
  {
   "cell_type": "markdown",
   "id": "3ed40599",
   "metadata": {},
   "source": [
    "B.The parameter of interest :Rating of Camera (7.5)"
   ]
  },
  {
   "cell_type": "markdown",
   "id": "cff43f7c",
   "metadata": {},
   "source": [
    "C.The sampling frame : All readers of the issue where the surveywas included "
   ]
  },
  {
   "cell_type": "markdown",
   "id": "51bd9fa6",
   "metadata": {},
   "source": [
    "D.The sample size  :225"
   ]
  },
  {
   "cell_type": "markdown",
   "id": "dc8661b9",
   "metadata": {},
   "source": [
    "E.The sampling design  : Voluntary Response"
   ]
  },
  {
   "cell_type": "markdown",
   "id": "5c080df9",
   "metadata": {},
   "source": [
    "F.Any potential sources of bias or other problems with the survey or sample\n",
    "\n",
    "It is possible that only those were particularly pleased or only who are displeased with the product participated in the \n",
    "\n",
    "survey which can make the survey unreliable"
   ]
  },
  {
   "cell_type": "markdown",
   "id": "a2360e88",
   "metadata": {},
   "source": [
    "# Q3"
   ]
  },
  {
   "cell_type": "markdown",
   "id": "c8593f5f",
   "metadata": {},
   "source": [
    "3.\tFor each of the following statements, indicate whether it is True/False. If false, explain why.\n",
    "\n",
    "I.\tIf the 95% confidence interval for the average purchase of customers at a department store is $50 to $110, then $100 is a plausible value for the population mean at this level of confidence.\n",
    "\n",
    "II.\tIf the 95% confidence interval for the number of moviegoers who purchase concessions is 30% to 45%, this means that fewer than half of all moviegoers purchase concessions.\n",
    "\n",
    "III.\tThe 95% Confidence-Interval for μ only applies if the sample data are nearly normally distributed.\n"
   ]
  },
  {
   "cell_type": "markdown",
   "id": "1885e7dc",
   "metadata": {},
   "source": [
    "# ANS"
   ]
  },
  {
   "cell_type": "markdown",
   "id": "4d1feee9",
   "metadata": {},
   "source": [
    "I.\tIf the 95% confidence interval for the average purchase of customers at a department store is $50 to $110, then $100 is a plausible value for the population mean at this level of confidence."
   ]
  },
  {
   "cell_type": "markdown",
   "id": "f807244c",
   "metadata": {},
   "source": [
    "ANS : TRUE"
   ]
  },
  {
   "cell_type": "markdown",
   "id": "e4c09025",
   "metadata": {},
   "source": [
    "II. If the 95% confidence interval for the number of moviegoers who purchase concessions is 30% to 45%, this means that fewer than half of all moviegoers purchase concessions."
   ]
  },
  {
   "cell_type": "markdown",
   "id": "9c7e8dcb",
   "metadata": {},
   "source": [
    "ANS : FALSE \n",
    "\n",
    "      As we need to cosider values out of the range also (i.e. more than 95% confidence interval)"
   ]
  },
  {
   "cell_type": "markdown",
   "id": "4dd38b8d",
   "metadata": {},
   "source": [
    "III. The 95% Confidence-Interval for μ only applies if the sample data are nearly normally distributed."
   ]
  },
  {
   "cell_type": "markdown",
   "id": "5085dead",
   "metadata": {},
   "source": [
    "ANS : FALSE \n",
    "\n",
    "as we need the sample size at least 30 to get normally distributed data for any  size population"
   ]
  },
  {
   "cell_type": "markdown",
   "id": "53f26e77",
   "metadata": {},
   "source": [
    "# Q4"
   ]
  },
  {
   "cell_type": "markdown",
   "id": "8a0dcec5",
   "metadata": {},
   "source": [
    "4.\tWhat are the chances that ?\n",
    "\n",
    "A.\t¼ \n",
    "\n",
    "B.\t½ \n",
    "\n",
    "C.\t¾ \n",
    "\n",
    "D.\t1\n"
   ]
  },
  {
   "cell_type": "markdown",
   "id": "807d2dbd",
   "metadata": {},
   "source": [
    "# ANS"
   ]
  },
  {
   "cell_type": "markdown",
   "id": "4fe2d127",
   "metadata": {},
   "source": [
    "ANS : B\n",
    "    \n",
    "    as it is pure assumption that sample mean (X)is greater than population mean\n",
    "    "
   ]
  },
  {
   "cell_type": "markdown",
   "id": "c2579891",
   "metadata": {},
   "source": [
    "# Q5"
   ]
  },
  {
   "cell_type": "markdown",
   "id": "9bb3e117",
   "metadata": {},
   "source": [
    "6.\tA book publisher monitors the size of shipments of its textbooks to university bookstores. For a sample of texts used at various schools, the 95% confidence interval for the size of the shipment was 250 ± 45 books. Which, if any, of the following interpretations of this interval are correct?\n",
    "\n",
    "A.\tAll shipments are between 205 and 295 books.\n",
    "\n",
    "B.\t95% of shipments are between 205 and 295 books.\n",
    "\n",
    "C.\tThe procedure that produced this interval generates ranges that hold the population mean for 95% of samples.\n",
    "\n",
    "D.\tIf we get another sample, then we can be 95% sure that the mean of this second sample is between 205 and 295.\n",
    "\n",
    "E.\tWe can be 95% confident that the range 160 to 340 holds the population mean.\n"
   ]
  },
  {
   "cell_type": "markdown",
   "id": "78105df8",
   "metadata": {},
   "source": [
    "# ANS"
   ]
  },
  {
   "cell_type": "markdown",
   "id": "58a1a2a5",
   "metadata": {},
   "source": [
    "A. All shipments are between 205 and 295 books.\n",
    "\n",
    "ANS : INCORRECT\n",
    "    \n",
    "    As it is not true for 100% only true for 95%"
   ]
  },
  {
   "cell_type": "markdown",
   "id": "7cb66480",
   "metadata": {},
   "source": [
    "B. 95% of shipments are between 205 and 295 books.\n",
    "\n",
    "ANS : CORRECT\n",
    "    \n",
    "    As this are the limit we get when we calculate interval with 95% confidence Intervals"
   ]
  },
  {
   "cell_type": "markdown",
   "id": "516cc07e",
   "metadata": {},
   "source": [
    "C. The procedure that produced this interval generates ranges that hold the population mean for 95% of samples.\n",
    "\n",
    "ANS :CORRECT"
   ]
  },
  {
   "cell_type": "markdown",
   "id": "e542743e",
   "metadata": {},
   "source": [
    "D. If we get another sample, then we can be 95% sure that the mean of this second sample is between 205 and 295.\n",
    "\n",
    "ANS : INCORRECT\n",
    "\n",
    "      The interval doesn't coresponds to a 95% confidence level"
   ]
  },
  {
   "cell_type": "markdown",
   "id": "04d94085",
   "metadata": {},
   "source": [
    "E. We can be 95% confident that the range 160 to 340 holds the population mean.\n",
    "\n",
    "ANS : this is otbthe interval for 95%"
   ]
  },
  {
   "cell_type": "markdown",
   "id": "70d1b757",
   "metadata": {},
   "source": [
    "# Q6"
   ]
  },
  {
   "cell_type": "markdown",
   "id": "82f0e324",
   "metadata": {},
   "source": [
    "5.\tIn January 2005, a company that monitors Internet traffic (WebSideStory) reported that its sampling revealed that the Mozilla Firefox browser launched in 2004 had grabbed a 4.6% share of the market.\n",
    "\n",
    "I.\tIf the sample were based on 2,000 users, could Microsoft conclude that Mozilla has a less than 5% share of the market?\n",
    "\n",
    "II.\tWebSideStory claims that its sample includes all the daily Internet users. If that’s the case, then can Microsoft conclude that Mozilla has a less than 5% share of the market?\n"
   ]
  },
  {
   "cell_type": "markdown",
   "id": "8c54810a",
   "metadata": {},
   "source": [
    "# ANS"
   ]
  },
  {
   "cell_type": "markdown",
   "id": "e1f68b55",
   "metadata": {},
   "source": [
    "I. If the sample were based on 2,000 users, could Microsoft conclude that Mozilla has a less than 5% share of the market?\n",
    "\n",
    "Ans: \n",
    "\n",
    "As (p_value = 0.2058) > (α = 0.05) ; Accept Null Hypothesis i.e. Mozilla market share > 5% Thus, Microsoft can not conclude that Mozilla has a less than 5% share of the market"
   ]
  },
  {
   "cell_type": "code",
   "execution_count": 11,
   "id": "7e86b425",
   "metadata": {},
   "outputs": [
    {
     "data": {
      "text/plain": [
       "-0.820782681668124"
      ]
     },
     "execution_count": 11,
     "metadata": {},
     "output_type": "execute_result"
    }
   ],
   "source": [
    "z_scores=(0.046-0.05)/(np.sqrt((0.05*(1-0.05))/2000))## Apply One-Sample One-Tail t-test\n",
    "z_scores"
   ]
  },
  {
   "cell_type": "code",
   "execution_count": 12,
   "id": "4e642fd4",
   "metadata": {},
   "outputs": [
    {
     "data": {
      "text/plain": [
       "0.20588503245107104"
      ]
     },
     "execution_count": 12,
     "metadata": {},
     "output_type": "execute_result"
    }
   ],
   "source": [
    "p_value=1-stats.norm.cdf(abs(z_scores))\n",
    "p_value"
   ]
  },
  {
   "cell_type": "markdown",
   "id": "0dcd904b",
   "metadata": {},
   "source": [
    "II.\tWebSideStory claims that its sample includes all the daily Internet users. If that’s the case, then can Microsoft conclude that Mozilla has a less than 5% share of the market?"
   ]
  },
  {
   "cell_type": "markdown",
   "id": "d72178c1",
   "metadata": {},
   "source": [
    "ANS:\n",
    "    \n",
    "    We are given that WebSideStory claims that its sample includes all the daily Internet users.\n",
    "\n",
    "This means that the 4.6% is the population percentage. Comparing it with Microsoft's claim that Mozilla has a less than 5% share of the whole market is True.\n",
    "\n",
    "Hence, we can conclude that Mozilla has a less than 5% share of the market."
   ]
  },
  {
   "cell_type": "markdown",
   "id": "2dc436e6",
   "metadata": {},
   "source": [
    "# Q7"
   ]
  },
  {
   "cell_type": "markdown",
   "id": "60c5378f",
   "metadata": {},
   "source": [
    "7.\tWhich is shorter: a 95% z-interval or a 95% t-interval for μ if we know that σ =s?\n",
    "\n",
    "A.\tThe z-interval is shorter\n",
    "\n",
    "B.\tThe t-interval is shorter\n",
    "\n",
    "C.\tBoth are equal\n",
    "\n",
    "D.\tWe cannot say\n",
    "\n"
   ]
  },
  {
   "cell_type": "markdown",
   "id": "e75e2df2",
   "metadata": {},
   "source": [
    "ANS:\n",
    "    \n",
    "    D. We cannot say as Z interval is depend upon population parameter and t intervl is depend upon sample size as we need degrees of freedom"
   ]
  },
  {
   "cell_type": "markdown",
   "id": "f0a306e0",
   "metadata": {},
   "source": [
    "# Q8"
   ]
  },
  {
   "cell_type": "markdown",
   "id": "4e772442",
   "metadata": {},
   "source": [
    "Questions 8 and 9 are based on the following: To prepare a report on the economy, analysts need to estimate the percentage of businesses that plan to hire additional employees in the next 60 days.\n",
    "\n",
    "\n"
   ]
  },
  {
   "cell_type": "markdown",
   "id": "f1f51398",
   "metadata": {},
   "source": [
    "8.How many randomly selected employers (minimum number) must we contact in order to guarantee a margin of error of no more than 4% (at 95% confidence)?\n",
    "A. 600 B. 400 C. 550 D. 1000\n",
    "\n",
    "\n",
    "ANS : A 600"
   ]
  },
  {
   "cell_type": "markdown",
   "id": "d3a95598",
   "metadata": {},
   "source": [
    "# Q9"
   ]
  },
  {
   "cell_type": "markdown",
   "id": "da5b96d7",
   "metadata": {},
   "source": [
    "Suppose we want the above margin of error to be based on a 98% confidence level. What sample size (minimum) must we now use?\n",
    "A. 1000 B. 757 C. 848 D. 543\n",
    "\n",
    "ANS : C  848"
   ]
  }
 ],
 "metadata": {
  "kernelspec": {
   "display_name": "Python 3 (ipykernel)",
   "language": "python",
   "name": "python3"
  },
  "language_info": {
   "codemirror_mode": {
    "name": "ipython",
    "version": 3
   },
   "file_extension": ".py",
   "mimetype": "text/x-python",
   "name": "python",
   "nbconvert_exporter": "python",
   "pygments_lexer": "ipython3",
   "version": "3.11.5"
  }
 },
 "nbformat": 4,
 "nbformat_minor": 5
}
