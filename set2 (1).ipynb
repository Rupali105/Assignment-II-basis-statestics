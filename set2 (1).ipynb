{
 "cells": [
  {
   "cell_type": "markdown",
   "id": "eca4fae0",
   "metadata": {},
   "source": [
    "# Q1"
   ]
  },
  {
   "cell_type": "markdown",
   "id": "1c2efb2e",
   "metadata": {},
   "source": [
    "1.The time required for servicing transmissions is normally distributed with  = 45 minutes and  = 8 minutes.\n",
    "\n",
    "The service manager plans to have work begin on the transmission of a customer’s car 10 minutes after the car\n",
    "\n",
    "is dropped off and the customer is told that the car will be ready within 1 hour from drop-off.\n",
    "\n",
    "What is the probability that the service manager cannot meet his commitment? "
   ]
  },
  {
   "cell_type": "code",
   "execution_count": 2,
   "id": "64fad3fc",
   "metadata": {},
   "outputs": [],
   "source": [
    "import pandas as pd\n",
    "import numpy as np\n",
    "import matplotlib.pyplot as plt\n",
    "import seaborn as sns\n",
    "from scipy import stats\n",
    "from scipy.stats import norm"
   ]
  },
  {
   "cell_type": "markdown",
   "id": "11cac381",
   "metadata": {},
   "source": [
    "Ans- We have a normal distribution with   = 45 and    = 8.0. \n",
    "\n",
    "Let X  be the amount of time it takes to complete the repair on a customer's car. \n",
    "\n",
    "To finish in one hour you must have X ≤ 50 so the question is to find Pr(X > 50).\n"
   ]
  },
  {
   "cell_type": "code",
   "execution_count": 3,
   "id": "2f3cbf12",
   "metadata": {},
   "outputs": [
    {
     "data": {
      "text/plain": [
       "0.26598552904870054"
      ]
     },
     "execution_count": 3,
     "metadata": {},
     "output_type": "execute_result"
    }
   ],
   "source": [
    "p=1-stats.norm.cdf(50,45,8)\n",
    "p"
   ]
  },
  {
   "cell_type": "markdown",
   "id": "c028ffe9",
   "metadata": {},
   "source": [
    "# Q2"
   ]
  },
  {
   "cell_type": "markdown",
   "id": "67444218",
   "metadata": {},
   "source": [
    "2.The current age (in years) of 400 clerical employees at an insurance claims processing center is normally \n",
    "distributed with mean  = 38 and Standard deviation  =6. For each statement below, please specify True/False. \n",
    "If false, briefly explain why\n",
    "\n",
    "A.More employees at the processing center are older than 44 than between 38 and 44.\n",
    "\n",
    "False\n"
   ]
  },
  {
   "cell_type": "code",
   "execution_count": 9,
   "id": "fbfa7b0b",
   "metadata": {},
   "outputs": [
    {
     "data": {
      "text/plain": [
       "0.15865525393145707"
      ]
     },
     "execution_count": 9,
     "metadata": {},
     "output_type": "execute_result"
    }
   ],
   "source": [
    "# find prob of age >=44\n",
    "p1=1-stats.norm.cdf(44,loc=38,scale = 6)\n",
    "p1"
   ]
  },
  {
   "cell_type": "code",
   "execution_count": 10,
   "id": "055e9427",
   "metadata": {},
   "outputs": [
    {
     "data": {
      "text/plain": [
       "0.3413447460685429"
      ]
     },
     "execution_count": 10,
     "metadata": {},
     "output_type": "execute_result"
    }
   ],
   "source": [
    "#find probablity of age (38=<age>=44)\n",
    "p2=stats.norm.cdf(44,loc = 38, scale =6) - stats.norm.cdf(38,loc = 38,scale =6)\n",
    "p2"
   ]
  },
  {
   "cell_type": "markdown",
   "id": "574bba73",
   "metadata": {},
   "source": [
    "P1<p2\n",
    "\n",
    "Statement A is False"
   ]
  },
  {
   "cell_type": "markdown",
   "id": "682a8a4c",
   "metadata": {},
   "source": [
    "B.\tA training program for employees under the age of 30 at the center would be expected to attract about 36 employees.\n",
    "\n",
    "ANS: TRUE"
   ]
  },
  {
   "cell_type": "code",
   "execution_count": 11,
   "id": "663c838a",
   "metadata": {},
   "outputs": [
    {
     "data": {
      "text/plain": [
       "0.09121121972586788"
      ]
     },
     "execution_count": 11,
     "metadata": {},
     "output_type": "execute_result"
    }
   ],
   "source": [
    "p=stats.norm.cdf(30,loc=38,scale = 6)\n",
    "p"
   ]
  },
  {
   "cell_type": "code",
   "execution_count": 16,
   "id": "6f207a23",
   "metadata": {},
   "outputs": [
    {
     "data": {
      "text/plain": [
       "36.480000000000004"
      ]
     },
     "execution_count": 16,
     "metadata": {},
     "output_type": "execute_result"
    }
   ],
   "source": [
    "employees=(400*0.0912)\n",
    "employees"
   ]
  },
  {
   "cell_type": "markdown",
   "id": "63bbfd18",
   "metadata": {},
   "source": [
    "# Q3"
   ]
  },
  {
   "cell_type": "markdown",
   "id": "6c0a9134",
   "metadata": {},
   "source": [
    "3.\tIf X1 ~ N(μ, σ2) and X2 ~ N(μ, σ2) are iid normal random variables, then what is the \n",
    "\n",
    "difference between 2 X1 and X1 + X2? Discuss both their distributions and parameters.       "
   ]
  },
  {
   "cell_type": "markdown",
   "id": "9c2a2fb4",
   "metadata": {},
   "source": [
    "Ans- As we know that if  X ∼ N(µ1, σ1^2 ), and  Y ∼ N(µ2, σ2^2 ) \n",
    "\n",
    "are two independent  random variables then   X + Y ∼ N(µ1 + µ2, σ1^2 + σ2^2 ) , and      X − Y ∼ N(µ1 − µ2, σ1^2 + σ2^2 ) .\n",
    "Similarly if  Z = aX + bY , where X and Y are as defined above, i.e Z is linear combination of X and Y , \n",
    "\n",
    "then Z ∼ N(aµ1 + bµ2, a^2σ1^2 + b^2σ2^2 ).\n",
    "\n",
    "Therefore in the question \n",
    "\n",
    "\n",
    "2X1~ N(2 u,4 σ^2) and \n",
    "\n",
    "X1+X2 ~  N(µ + µ, σ^2 + σ^2 ) ~ N(2 u, 2σ^2 )\n",
    "\n",
    "2X1-(X1+X2) = N( 4µ,6 σ^2)\n"
   ]
  },
  {
   "cell_type": "markdown",
   "id": "0cdd82dd",
   "metadata": {},
   "source": [
    "# Q4"
   ]
  },
  {
   "cell_type": "markdown",
   "id": "90268dba",
   "metadata": {},
   "source": [
    "4.\tLet X ~ N(100, 202). Find two values, a and b, symmetric about the mean, such that the probability of the random\n",
    "variable taking a value between them is 0.99.\n",
    "\n"
   ]
  },
  {
   "cell_type": "code",
   "execution_count": 19,
   "id": "dd6506b6",
   "metadata": {},
   "outputs": [
    {
     "data": {
      "text/plain": [
       "(48.48341392902199, 151.516586070978)"
      ]
     },
     "execution_count": 19,
     "metadata": {},
     "output_type": "execute_result"
    }
   ],
   "source": [
    "p=stats.norm.interval(0.99,100,20)\n",
    "p"
   ]
  },
  {
   "cell_type": "markdown",
   "id": "5a600d43",
   "metadata": {},
   "source": [
    "# Q5"
   ]
  },
  {
   "cell_type": "markdown",
   "id": "d4c08cbe",
   "metadata": {},
   "source": [
    "5.\tConsider a company that has two different divisions. The annual profits from the two divisions are independent and have\n",
    "\n",
    "distributions Profit1 ~ N(5, 32) and Profit2 ~ N(7, 42) respectively. Both the profits are in $ Million. Answer the \n",
    "\n",
    "following questions about the total profit of the company in Rupees. Assume that $1 = Rs. 45"
   ]
  },
  {
   "cell_type": "markdown",
   "id": "c944414d",
   "metadata": {},
   "source": [
    "A.\tSpecify a Rupee range (centered on the mean) such that it contains 95% probability for the annual profit of the company."
   ]
  },
  {
   "cell_type": "code",
   "execution_count": 20,
   "id": "1cac0532",
   "metadata": {},
   "outputs": [
    {
     "name": "stdout",
     "output_type": "stream",
     "text": [
      "Mean Profit is Rs 540 Million\n"
     ]
    }
   ],
   "source": [
    "# Mean profits from two different divisions of a company = Mean1 + Mean2\n",
    "Mean = 5+7\n",
    "print('Mean Profit is Rs', Mean*45,'Million')"
   ]
  },
  {
   "cell_type": "code",
   "execution_count": 21,
   "id": "74fb7e72",
   "metadata": {},
   "outputs": [
    {
     "name": "stdout",
     "output_type": "stream",
     "text": [
      "Standard Deviation is Rs 225.0 Million\n"
     ]
    }
   ],
   "source": [
    "# Variance of profits from two different divisions of a company = SD^2 = SD1^2 + SD2^2\n",
    "SD = np.sqrt((9)+(16))\n",
    "print('Standard Deviation is Rs', SD*45, 'Million')"
   ]
  },
  {
   "cell_type": "code",
   "execution_count": 23,
   "id": "5f87e20e",
   "metadata": {},
   "outputs": [
    {
     "name": "stdout",
     "output_type": "stream",
     "text": [
      "Range is Rs (99.00810347848784, 980.9918965215122) in Millions\n"
     ]
    }
   ],
   "source": [
    "#Range_in_rupee=stats.norm.interval(0.95,540,225)\n",
    "#Range_in_rupee\n",
    "print('Range is Rs',(stats.norm.interval(0.95,540,225)),'in Millions')"
   ]
  },
  {
   "cell_type": "markdown",
   "id": "908d1d8e",
   "metadata": {},
   "source": [
    "B. Specify the 5th percentile of profit (in Rupees) for the company"
   ]
  },
  {
   "cell_type": "code",
   "execution_count": 24,
   "id": "cc063a1e",
   "metadata": {},
   "outputs": [
    {
     "name": "stdout",
     "output_type": "stream",
     "text": [
      "5th percentile of profit (in Million Rupees) is 170.0\n"
     ]
    }
   ],
   "source": [
    "\n",
    "# To compute 5th Percentile, we use the formula X=μ + Zσ; wherein from z table, 5 percentile = -1.645\n",
    "X= 540+(-1.645)*(225)\n",
    "print('5th percentile of profit (in Million Rupees) is',np.round(X,))"
   ]
  },
  {
   "cell_type": "markdown",
   "id": "d0c53a60",
   "metadata": {},
   "source": [
    "C.Which of the two divisions has a larger probability of making a loss in a given year?"
   ]
  },
  {
   "cell_type": "code",
   "execution_count": 25,
   "id": "13b66d5b",
   "metadata": {},
   "outputs": [
    {
     "data": {
      "text/plain": [
       "0.0477903522728147"
      ]
     },
     "execution_count": 25,
     "metadata": {},
     "output_type": "execute_result"
    }
   ],
   "source": [
    "# Probability of Division 1 making a loss P(X<0)\n",
    "stats.norm.cdf(0,5,3)"
   ]
  },
  {
   "cell_type": "code",
   "execution_count": 26,
   "id": "5952c071",
   "metadata": {},
   "outputs": [
    {
     "data": {
      "text/plain": [
       "0.040059156863817086"
      ]
     },
     "execution_count": 26,
     "metadata": {},
     "output_type": "execute_result"
    }
   ],
   "source": [
    "# Probability of Division 2 making a loss P(X<0)\n",
    "stats.norm.cdf(0,7,4)"
   ]
  },
  {
   "cell_type": "markdown",
   "id": "5c1dc145",
   "metadata": {},
   "source": [
    "Conclusion\n",
    "\n",
    "Division  A will make more loss"
   ]
  }
 ],
 "metadata": {
  "kernelspec": {
   "display_name": "Python 3 (ipykernel)",
   "language": "python",
   "name": "python3"
  },
  "language_info": {
   "codemirror_mode": {
    "name": "ipython",
    "version": 3
   },
   "file_extension": ".py",
   "mimetype": "text/x-python",
   "name": "python",
   "nbconvert_exporter": "python",
   "pygments_lexer": "ipython3",
   "version": "3.11.5"
  }
 },
 "nbformat": 4,
 "nbformat_minor": 5
}
